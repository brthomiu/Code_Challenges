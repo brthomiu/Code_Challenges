{
 "cells": [
  {
   "cell_type": "code",
   "execution_count": 2,
   "metadata": {},
   "outputs": [
    {
     "data": {
      "application/javascript": "//if running in vscode, change \"%%js\" to \"%%script node\"\n\n//JavaScript function to check if all of the characters in a string are unique\n\nfunction uniqueCharacters(stringIn) {\n  let referenceString = [];\n\n  //Iterates through the reference string and checks if the empty array contains the current character\n  //if they do not match, it pushes the character to the reference string which ends up checking that character against all the subsequent characters as it continues to iterate\n  const uniqueStageOne = (stringIn) => {\n    for (let i = 0; i < stringIn.length; i++) {\n      if (referenceString.includes(stringIn[i]) === false) {\n        referenceString.push(stringIn[i]);\n      } else {\n        return false;\n      }\n    }\n  };\n\n  if (stringIn === \"\") {\n    console.log(\"Please enter a string.\");\n    return \"Error\";\n  } else {\n    if (uniqueStageOne(stringIn) === false) {\n      console.log(\"Characters in \" + stringIn + \" are NOT unique.\");\n      return false;\n    } else {\n      console.log(\"Characters in \" + stringIn + \" ARE unique.\");\n      return true;\n    }\n  }\n}\n\nuniqueCharacters(\"Spoon\");\n\nuniqueCharacters(\"Plants\");\n",
      "text/plain": [
       "<IPython.core.display.Javascript object>"
      ]
     },
     "metadata": {},
     "output_type": "display_data"
    }
   ],
   "source": [
    "%%js\n",
    "//if running in vscode, change \"%%js\" to \"%%script node\"\n",
    "\n",
    "//JavaScript function to check if all of the characters in a string are unique\n",
    "\n",
    "function uniqueCharacters(stringIn) {\n",
    "  let referenceString = [];\n",
    "\n",
    "  //Iterates through the reference string and checks if the empty array contains the current character\n",
    "  //if they do not match, it pushes the character to the reference string which ends up checking that character against all the subsequent characters as it continues to iterate\n",
    "  const uniqueStageOne = (stringIn) => {\n",
    "    for (let i = 0; i < stringIn.length; i++) {\n",
    "      if (referenceString.includes(stringIn[i]) === false) {\n",
    "        referenceString.push(stringIn[i]);\n",
    "      } else {\n",
    "        return false;\n",
    "      }\n",
    "    }\n",
    "  };\n",
    "\n",
    "  if (stringIn === \"\") {\n",
    "    console.log(\"Please enter a string.\");\n",
    "    return \"Error\";\n",
    "  } else {\n",
    "    if (uniqueStageOne(stringIn) === false) {\n",
    "      console.log(\"Characters in \" + stringIn + \" are NOT unique.\");\n",
    "      return false;\n",
    "    } else {\n",
    "      console.log(\"Characters in \" + stringIn + \" ARE unique.\");\n",
    "      return true;\n",
    "    }\n",
    "  }\n",
    "}\n",
    "\n",
    "uniqueCharacters(\"Spoon\");\n",
    "\n",
    "uniqueCharacters(\"Plants\");\n"
   ]
  },
  {
   "cell_type": "code",
   "execution_count": 3,
   "metadata": {},
   "outputs": [
    {
     "data": {
      "application/javascript": "//if running in vscode, change \"%%js\" to \"%%script node\"\n\n//function that takes a number and returns an array of the numbers that increment up to the length of the input number.\n//Multiples of three are replaced with \"fizz\", multiples of five \"buzz\", and multiples of both \"fizzbuzz\"\n\nfunction fizzbuzz(n) {\n  let fizzbuzzArray = [];\n\n  const fizzBuzzChecker = (x) => {\n    if (x % 3 === 0 && x % 5 === 0) {\n      return \"FizzBuzz\";\n    } else if (x % 3 === 0 && x % 5 != 0) {\n      return \"Fizz\";\n    } else if (x % 3 != 0 && x % 5 === 0) {\n      return \"Buzz\";\n    } else if (x % 3 != 0 && x % 5 != 0) {\n      return x;\n    }\n  };\n\n  for (let i = 1; i <= n; i++) {\n    fizzbuzzArray.push(fizzBuzzChecker(i));\n  }\n  return fizzbuzzArray;\n}\n\nconsole.log(fizzbuzz(16));\n\n// Leave this line for testing:\nmodule.exports = fizzbuzz;\n",
      "text/plain": [
       "<IPython.core.display.Javascript object>"
      ]
     },
     "metadata": {},
     "output_type": "display_data"
    }
   ],
   "source": [
    "%%js\n",
    "//if running in vscode, change \"%%js\" to \"%%script node\"\n",
    "\n",
    "//function that takes a number and returns an array of the numbers that increment up to the length of the input number.\n",
    "//Multiples of three are replaced with \"fizz\", multiples of five \"buzz\", and multiples of both \"fizzbuzz\"\n",
    "\n",
    "function fizzbuzz(n) {\n",
    "  let fizzbuzzArray = [];\n",
    "\n",
    "  const fizzBuzzChecker = (x) => {\n",
    "    if (x % 3 === 0 && x % 5 === 0) {\n",
    "      return \"FizzBuzz\";\n",
    "    } else if (x % 3 === 0 && x % 5 != 0) {\n",
    "      return \"Fizz\";\n",
    "    } else if (x % 3 != 0 && x % 5 === 0) {\n",
    "      return \"Buzz\";\n",
    "    } else if (x % 3 != 0 && x % 5 != 0) {\n",
    "      return x;\n",
    "    }\n",
    "  };\n",
    "\n",
    "  for (let i = 1; i <= n; i++) {\n",
    "    fizzbuzzArray.push(fizzBuzzChecker(i));\n",
    "  }\n",
    "  return fizzbuzzArray;\n",
    "}\n",
    "\n",
    "console.log(fizzbuzz(16));\n",
    "\n",
    "// Leave this line for testing:\n",
    "module.exports = fizzbuzz;\n"
   ]
  }
 ],
 "metadata": {
  "kernelspec": {
   "display_name": "Python 3.10.8 64-bit",
   "language": "python",
   "name": "python3"
  },
  "language_info": {
   "codemirror_mode": {
    "name": "ipython",
    "version": 3
   },
   "file_extension": ".py",
   "mimetype": "text/x-python",
   "name": "python",
   "nbconvert_exporter": "python",
   "pygments_lexer": "ipython3",
   "version": "3.10.8"
  },
  "orig_nbformat": 4,
  "vscode": {
   "interpreter": {
    "hash": "16f7be2c6275b7d054636335e990a78d7ef348dfa34372e7ead97f67e4df12ae"
   }
  }
 },
 "nbformat": 4,
 "nbformat_minor": 2
}
